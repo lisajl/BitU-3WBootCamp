{
  "nbformat": 4,
  "nbformat_minor": 0,
  "metadata": {
    "colab": {
      "name": "Copy of Week1_Introduction_to_data_and_Python.ipynb",
      "provenance": [],
      "include_colab_link": true
    },
    "kernelspec": {
      "name": "python3",
      "display_name": "Python 3"
    }
  },
  "cells": [
    {
      "cell_type": "markdown",
      "metadata": {
        "id": "view-in-github",
        "colab_type": "text"
      },
      "source": [
        "<a href=\"https://colab.research.google.com/github/lisajl/BitU-3WBootCamp/blob/Atul/Copy_of_Week1_Introduction_to_data_and_Python.ipynb\" target=\"_parent\"><img src=\"https://colab.research.google.com/assets/colab-badge.svg\" alt=\"Open In Colab\"/></a>"
      ]
    },
    {
      "cell_type": "markdown",
      "metadata": {
        "id": "Z_SaUKRwmqha"
      },
      "source": [
        "# <div align=\"center\">Introduction to Data and Python</div>"
      ]
    },
    {
      "cell_type": "markdown",
      "metadata": {
        "id": "lhXO43U-q8JJ"
      },
      "source": [
        "## Intro to Data Science & Programming \n",
        "Welcome! In this camp, we will be learning the basics of a few programming tools used to analyze data. In today's world, data science is more important than ever. With an increasing amount of data available, data science allows us to sort through data that won't be useful and instead gather meaningful conclusions from our data. In doing so, data science lets us make better, more informed decisions in nearly every aspect of our lives. \n",
        "\n",
        "For example, Netflix analyzes watchtimes and user preferences to decide which shows to buy rights for and which shows to recommend to you, health workers analyze virus cases to decide what policies to enact based on their results, stockbrokers analyze stock performance to predict which stocks to buy, etc. The examples are truly endless. \n",
        "\n",
        "Programming allows us to analyze data easily and efficiently. Instead of going through data by hand, we can simply type a few commands and be able to filter out useless data, select specific data we want to examine more in depth, as well as visualize data in just a few seconds. Thus, in this camp, we'll be going over a few of these commonly used data analysis tools and how to use them.  "
      ]
    },
    {
      "cell_type": "markdown",
      "metadata": {
        "id": "R7I6cGKU_S9_"
      },
      "source": [
        "## Why, Where, and How we use Python\n",
        "To begin, we'll be going over the basics of Python, which is a popular general-purpose programming language used for everything from data science to software and web development. Python is one of the best programming languages to learn as a beginner because it is structured to put less emphasis on specific formatting and the commands used are meant to be easily understandable. \n",
        "\n",
        "When it comes to data science, Python is particularly useful because it features a variety of data science libraries like pandas and Matplotlib. These libraries are collections of code that aren't built in to standard Python that you can import and then use. For example, instead of having to write many lines of code to make a graph based on data, we can just import the Matplotlib library and use the plot command. \n",
        "\n",
        "However, to use these useful data science tools, we first have to understand the basics of Python itself. \n",
        "\n",
        "\n"
      ]
    },
    {
      "cell_type": "markdown",
      "metadata": {
        "id": "yn56q8ie3bCK"
      },
      "source": [
        "## Numbers"
      ]
    },
    {
      "cell_type": "markdown",
      "metadata": {
        "id": "LvQ8LBU22wVE"
      },
      "source": [
        "### Types of numbers\n",
        "There are two different kinds of numbers we'll be going over in this course: integers and floats.\n",
        "\n",
        "Integers are whole numbers, like `3`,`100`, and`-2000`.\n",
        "\n",
        "Floats are numbers with decimals, like `-3.14`,`2.917`, and `1.1`.\n",
        "\n",
        "You can use Python to do basic math with these numbers."
      ]
    },
    {
      "cell_type": "markdown",
      "metadata": {
        "id": "WlZ5c0m_2wVJ"
      },
      "source": [
        "### Basic Arithmetic\n",
        "\n",
        "Most of these operations are intuitive. "
      ]
    },
    {
      "cell_type": "markdown",
      "metadata": {
        "id": "EvBmpNNDX0EH"
      },
      "source": [
        "Addition"
      ]
    },
    {
      "cell_type": "code",
      "metadata": {
        "id": "P0fJlFvk2wVQ"
      },
      "source": [
        "4+5"
      ],
      "execution_count": null,
      "outputs": []
    },
    {
      "cell_type": "markdown",
      "metadata": {
        "id": "JJDFcj0ZYGhI"
      },
      "source": [
        "Subtraction"
      ]
    },
    {
      "cell_type": "code",
      "metadata": {
        "id": "mtlYVK6b2wVj"
      },
      "source": [
        "5-10"
      ],
      "execution_count": null,
      "outputs": []
    },
    {
      "cell_type": "markdown",
      "metadata": {
        "id": "vPemMnyxYUKu"
      },
      "source": [
        "Multiplication"
      ]
    },
    {
      "cell_type": "code",
      "metadata": {
        "id": "_1f4Ofza2wV7"
      },
      "source": [
        "4.2*8.3"
      ],
      "execution_count": null,
      "outputs": []
    },
    {
      "cell_type": "markdown",
      "metadata": {
        "id": "s0bnnWMEYWtZ"
      },
      "source": [
        "Division"
      ]
    },
    {
      "cell_type": "code",
      "metadata": {
        "id": "wUCF99zx2wWC"
      },
      "source": [
        "25/5"
      ],
      "execution_count": null,
      "outputs": []
    },
    {
      "cell_type": "markdown",
      "metadata": {
        "id": "P3PhLjndYYY7"
      },
      "source": [
        "Floor Division"
      ]
    },
    {
      "cell_type": "code",
      "metadata": {
        "id": "DFVGzwgQ2wWH",
        "outputId": "4441b6ba-f2b3-48f1-e82c-8dc9a66d6467",
        "colab": {
          "base_uri": "https://localhost:8080/"
        }
      },
      "source": [
        "12//7"
      ],
      "execution_count": null,
      "outputs": [
        {
          "output_type": "execute_result",
          "data": {
            "text/plain": [
              "1"
            ]
          },
          "metadata": {
            "tags": []
          },
          "execution_count": 1
        }
      ]
    },
    {
      "cell_type": "markdown",
      "metadata": {
        "id": "HKMA-ctF2wWS"
      },
      "source": [
        "Floor division returns the quotient from division as a whole number. \n",
        "For example, if you used division to calculate 12 divided by 7, you would get approximately 1.71. Floor division leaves out the decimals and just takes the integer. In this case, we would just get 1.\n",
        "\n",
        "Remember, floor division will not round to the nearest integer! Instead, floor division will just leave out everything after the decimal point. \n",
        "\n",
        "1.   List item\n",
        "2.   List item\n",
        "\n",
        "\n",
        "\n"
      ]
    },
    {
      "cell_type": "markdown",
      "metadata": {
        "id": "XtyIEBnHaIE-"
      },
      "source": [
        "Modulo"
      ]
    },
    {
      "cell_type": "code",
      "metadata": {
        "id": "zAwDlKQr2wWW"
      },
      "source": [
        "9 % 4"
      ],
      "execution_count": null,
      "outputs": []
    },
    {
      "cell_type": "markdown",
      "metadata": {
        "id": "SmrF4pzM2wWd"
      },
      "source": [
        "Modulo, or mod, returns the remainder of a division operation. \n",
        "For example, 4 goes into 9 twice with a remainder of 1."
      ]
    },
    {
      "cell_type": "markdown",
      "metadata": {
        "id": "XSCsHC222wXP"
      },
      "source": [
        "## Variable Assignments\n",
        "\n",
        "In programming, you store data in variables. They work exactly the same as the variables you've seen in math classes.\n",
        "\n",
        "Let's see some examples:"
      ]
    },
    {
      "cell_type": "code",
      "metadata": {
        "id": "PRjmRrLJ2wXQ"
      },
      "source": [
        "# Let's create a variable called \"a\" and assign it to equal the number 10\n",
        "a = 10"
      ],
      "execution_count": null,
      "outputs": []
    },
    {
      "cell_type": "markdown",
      "metadata": {
        "id": "2SZAO47P2wXY"
      },
      "source": [
        "Python will now substitute `a` with `10` whenever we work with that variable."
      ]
    },
    {
      "cell_type": "code",
      "metadata": {
        "id": "CNFrGd-m2wXa"
      },
      "source": [
        "# Adding the variables\n",
        "a+a"
      ],
      "execution_count": null,
      "outputs": []
    },
    {
      "cell_type": "markdown",
      "metadata": {
        "id": "TBfuZthz2wXg"
      },
      "source": [
        "Values of variables aren't set in stone. You can change them at any time."
      ]
    },
    {
      "cell_type": "code",
      "metadata": {
        "id": "IyUbGI6l2wXi"
      },
      "source": [
        "# Reassignment\n",
        "a = 20"
      ],
      "execution_count": null,
      "outputs": []
    },
    {
      "cell_type": "code",
      "metadata": {
        "id": "TGLcpU8j2wXn"
      },
      "source": [
        "# Check\n",
        "a+a"
      ],
      "execution_count": null,
      "outputs": []
    },
    {
      "cell_type": "markdown",
      "metadata": {
        "id": "CyeKAg962wXu"
      },
      "source": [
        "You don't have to just use numbers when assigning variables. You can even use other variables."
      ]
    },
    {
      "cell_type": "code",
      "metadata": {
        "id": "Ykxmc-gr2wX8"
      },
      "source": [
        "# Use A to redefine A\n",
        "a = a+a"
      ],
      "execution_count": null,
      "outputs": []
    },
    {
      "cell_type": "code",
      "metadata": {
        "id": "kuz0ctr92wX_"
      },
      "source": [
        "# Check \n",
        "a"
      ],
      "execution_count": null,
      "outputs": []
    },
    {
      "cell_type": "markdown",
      "metadata": {
        "id": "JaPrRdK3dfPK"
      },
      "source": [
        "There are a few rules when picking variable names:"
      ]
    },
    {
      "cell_type": "markdown",
      "metadata": {
        "id": "2cD46_8c2wYC"
      },
      "source": [
        "\n",
        "\n",
        "    1. Names can't start with a number. (E.g. 123name)\n",
        "    2. There can't be any spaces. (E.g. my name)\n",
        "          - Use underscores instead. (E.g. my_name)\n",
        "    3. Can't use any of these symbols :'\",<>/?|\\()!@#$%^&*~-+\n",
        "    4. Avoid using the characters 'l' (lowercase letter el), 'O' (uppercase letter oh), or 'I' (uppercase letter eye) as single letter variable names.\n",
        "    5. Avoid using words that have special meaning in Python like \"list\" and \"str\".\n",
        "    6. Using lowercase names are best practice.\n",
        "\n",
        "\n"
      ]
    },
    {
      "cell_type": "markdown",
      "metadata": {
        "id": "K5yQBMGofA4z"
      },
      "source": [
        "It's important to use meaningful variable names that accurately represent the variable's purpose. Single letter variable names are very easy to write, but can be very confusing when someone else is trying to understand your code."
      ]
    },
    {
      "cell_type": "code",
      "metadata": {
        "id": "vkyIeiFs2wYD"
      },
      "source": [
        "# Use variable names to keep better track of what's going on in your code!\n",
        "income = 1000\n",
        "\n",
        "tax_rate = 0.2\n",
        "\n",
        "taxes = income*tax_rate"
      ],
      "execution_count": null,
      "outputs": []
    },
    {
      "cell_type": "code",
      "metadata": {
        "id": "2YlBECQF2wYH"
      },
      "source": [
        "# Show the result!\n",
        "taxes"
      ],
      "execution_count": null,
      "outputs": []
    },
    {
      "cell_type": "markdown",
      "metadata": {
        "id": "kHJyh-qD2wYL"
      },
      "source": [
        "Now, we will go over the next **data type**: Strings."
      ]
    },
    {
      "cell_type": "markdown",
      "metadata": {
        "id": "P3C3zJ-7Nr_3"
      },
      "source": [
        "## Strings"
      ]
    },
    {
      "cell_type": "markdown",
      "metadata": {
        "id": "UH3RobEsNr_4"
      },
      "source": [
        "Strings are a combination of characters. Characters are singular letters, numbers, symbols, etc. \n",
        "\n",
        "More specifically, strings are a sequence, a set of things that follow a specific order. "
      ]
    },
    {
      "cell_type": "markdown",
      "metadata": {
        "id": "x6IrT_vuNr_5"
      },
      "source": [
        "### Creating Strings\n"
      ]
    },
    {
      "cell_type": "markdown",
      "metadata": {
        "id": "ZquKShWxfFa2"
      },
      "source": [
        "To create a string in Python, you must use quotes around your set of characters. "
      ]
    },
    {
      "cell_type": "code",
      "metadata": {
        "id": "rYqOQqWwNr_6"
      },
      "source": [
        "# A word\n",
        "'hi'"
      ],
      "execution_count": null,
      "outputs": []
    },
    {
      "cell_type": "code",
      "metadata": {
        "id": "B0h3v-fTNr__"
      },
      "source": [
        "# A phrase\n",
        "'A string can even be a sentence like this.'"
      ],
      "execution_count": null,
      "outputs": []
    },
    {
      "cell_type": "code",
      "metadata": {
        "id": "aqcRSHvPNsAC"
      },
      "source": [
        "# Using double quotes\n",
        "\"The quote type doesn't really matter.\""
      ],
      "execution_count": null,
      "outputs": []
    },
    {
      "cell_type": "markdown",
      "metadata": {
        "id": "xt7OF_LifZJH"
      },
      "source": [
        "Both single or double quotes are acceptable, but you have to be consistent."
      ]
    },
    {
      "cell_type": "code",
      "metadata": {
        "id": "mmszjr3vNsAG"
      },
      "source": [
        "# Be wary of contractions and apostrophes!\n",
        "'I'm using single quotes, but this will create an error'"
      ],
      "execution_count": null,
      "outputs": []
    },
    {
      "cell_type": "markdown",
      "metadata": {
        "id": "0MoF6XYPNsAJ"
      },
      "source": [
        "Use double quotes when dealing with sentences or words that have contractions."
      ]
    },
    {
      "cell_type": "code",
      "metadata": {
        "id": "wSVUTR4LNsAK"
      },
      "source": [
        "\"This shouldn't cause an error now.\""
      ],
      "execution_count": null,
      "outputs": []
    },
    {
      "cell_type": "markdown",
      "metadata": {
        "id": "4I_0dIPHNsAN"
      },
      "source": [
        "Transition"
      ]
    },
    {
      "cell_type": "markdown",
      "metadata": {
        "id": "5IkjMPlcNsAd"
      },
      "source": [
        "### String Basics"
      ]
    },
    {
      "cell_type": "markdown",
      "metadata": {
        "id": "3Ti5Nv7aNsAe"
      },
      "source": [
        "There are many built-in string **properties** that are useful when handling strings. \n",
        "\n",
        "For example, `len()`. This statement allows us to find the length (number of characters) in a string. "
      ]
    },
    {
      "cell_type": "code",
      "metadata": {
        "id": "uBNGvj9uNsAf"
      },
      "source": [
        "len('Hello World')"
      ],
      "execution_count": null,
      "outputs": []
    },
    {
      "cell_type": "markdown",
      "metadata": {
        "id": "AgTf4FqtcnD9"
      },
      "source": [
        "Since a string is a data type, we can assign it to a variable just like a number! \n"
      ]
    },
    {
      "cell_type": "code",
      "metadata": {
        "id": "RbYyeFrLNsAk"
      },
      "source": [
        "# Assign 'Hello World' to mystring variable\n",
        "mystring = 'Hello World'"
      ],
      "execution_count": null,
      "outputs": []
    },
    {
      "cell_type": "code",
      "metadata": {
        "id": "3sAvAFHzNsAp"
      },
      "source": [
        "# Did it work?\n",
        "mystring"
      ],
      "execution_count": null,
      "outputs": []
    },
    {
      "cell_type": "markdown",
      "metadata": {
        "id": "X9GNvLDRnKOX"
      },
      "source": [
        "To see what is inside a variable, use the `print()` statement. "
      ]
    },
    {
      "cell_type": "code",
      "metadata": {
        "id": "Dda7HfhGNsAr"
      },
      "source": [
        "# Print the variable mystring to see what is inside of it\n",
        "print(mystring) "
      ],
      "execution_count": null,
      "outputs": []
    },
    {
      "cell_type": "markdown",
      "metadata": {
        "id": "lk8bxjtCNsAw"
      },
      "source": [
        "Like we mentioned earlier, strings are an example of a sequence. More specifically, a sequence of characters. \n",
        "\n",
        "<font color=\"red\">This means strings are made up of individual elements that can be accessed separately. </font>\n",
        "\n",
        "To take apart a string and work with individual characters, we use **indexing**. \n",
        "\n",
        "Each element of a sequence has an index. These indices are numbers that represent the position of the element in the sequence. For example, in the string `'Hello World'`, the first character, `H` would have an index of 0. Note that in Python, indices start with 0 and not 1. \n",
        "\n"
      ]
    },
    {
      "cell_type": "code",
      "metadata": {
        "id": "Fgzo1XrCNsAx"
      },
      "source": [
        "# Extract first character in a string.\n",
        "mystring[0]"
      ],
      "execution_count": null,
      "outputs": []
    },
    {
      "cell_type": "code",
      "metadata": {
        "id": "0kcd-9EZNsA1"
      },
      "source": [
        "mystring[1]"
      ],
      "execution_count": null,
      "outputs": []
    },
    {
      "cell_type": "code",
      "metadata": {
        "id": "8M44L4hMNsA4"
      },
      "source": [
        "mystring[2]"
      ],
      "execution_count": null,
      "outputs": []
    },
    {
      "cell_type": "markdown",
      "metadata": {
        "id": "ky7Zm-NENsA7"
      },
      "source": [
        "We can use a <code>:</code> to perform ***slicing*** which <font color = \"red\"> grabs every element up to a specified index. For example: </font>"
      ]
    },
    {
      "cell_type": "code",
      "metadata": {
        "id": "jQKnWrNtNsA8"
      },
      "source": [
        "# Grab all the letters\n",
        "mystring[:]"
      ],
      "execution_count": null,
      "outputs": []
    },
    {
      "cell_type": "code",
      "metadata": {
        "id": "f9xrirSANsBD"
      },
      "source": [
        "# Grab all the letters UP TO the 5th index\n",
        "mystring[:5]"
      ],
      "execution_count": null,
      "outputs": []
    },
    {
      "cell_type": "markdown",
      "metadata": {
        "id": "5dp4GDO0NsBG"
      },
      "source": [
        "Note that slicing does not grab the 5th indexed element, the space, above. It stops right before it. "
      ]
    },
    {
      "cell_type": "code",
      "metadata": {
        "id": "otKc90t_NsBB"
      },
      "source": [
        "# This does not change the original string in any way\n",
        "mystring"
      ],
      "execution_count": null,
      "outputs": []
    },
    {
      "cell_type": "markdown",
      "metadata": {
        "id": "lksAiQL6NsBK"
      },
      "source": [
        "You can also index sequences backwards using negative indeces. "
      ]
    },
    {
      "cell_type": "code",
      "metadata": {
        "id": "8TywqyZ-NsBL"
      },
      "source": [
        "# Last letter (one index behind 0 so it loops back around)\n",
        "mystring[-1]"
      ],
      "execution_count": null,
      "outputs": []
    },
    {
      "cell_type": "code",
      "metadata": {
        "id": "LTzPovveNsBO"
      },
      "source": [
        "# Grab everything but the last letter\n",
        "mystring[:-1]"
      ],
      "execution_count": null,
      "outputs": []
    },
    {
      "cell_type": "markdown",
      "metadata": {
        "id": "XxBxY0SBNsBQ"
      },
      "source": [
        "You can also skip certain elements within the sequence by changing the **step size**. \n",
        "Follow the following format to include step size when dealing with indexing: `samplestring[beginning_index:ending_index:step_size] `"
      ]
    },
    {
      "cell_type": "code",
      "metadata": {
        "id": "D4GZPT3mNsBR"
      },
      "source": [
        "# Grab everything, but go in steps size of 1\n",
        "mystring[::1]"
      ],
      "execution_count": null,
      "outputs": []
    },
    {
      "cell_type": "code",
      "metadata": {
        "id": "PjDfDe3gNsBU"
      },
      "source": [
        "# Grab everything, but go in step sizes of 2\n",
        "mystring[0::2]"
      ],
      "execution_count": null,
      "outputs": []
    },
    {
      "cell_type": "code",
      "metadata": {
        "id": "5t-mgi-KNsBW"
      },
      "source": [
        "# A handy way to reverse a string!\n",
        "mystring[::-1]"
      ],
      "execution_count": null,
      "outputs": []
    },
    {
      "cell_type": "markdown",
      "metadata": {
        "id": "jPCEC_LvfRZp"
      },
      "source": [
        "**TRANSITION**"
      ]
    },
    {
      "cell_type": "markdown",
      "metadata": {
        "id": "P1U1VtJENsBZ"
      },
      "source": [
        "### String Properties\n",
        "It's important to note that strings are ***immutable***. This means that once a string is created, the elements within it can not be changed or replaced. For example:"
      ]
    },
    {
      "cell_type": "code",
      "metadata": {
        "id": "xvPyEmYpNsBa"
      },
      "source": [
        "mystring"
      ],
      "execution_count": null,
      "outputs": []
    },
    {
      "cell_type": "code",
      "metadata": {
        "id": "NDk66bjZNsBc"
      },
      "source": [
        "# Let's try to change the first letter\n",
        "mystring[0] = 'a'"
      ],
      "execution_count": null,
      "outputs": []
    },
    {
      "cell_type": "markdown",
      "metadata": {
        "id": "p_Q9e1MoNsBf"
      },
      "source": [
        "The error tells it to us straight. Strings do not support reassignment.\n",
        "\n",
        "However, we *can* **concatenate** strings. Concatenation allows us to combine strings. "
      ]
    },
    {
      "cell_type": "code",
      "metadata": {
        "id": "MUaQkaxfNsBg"
      },
      "source": [
        "mystring"
      ],
      "execution_count": null,
      "outputs": []
    },
    {
      "cell_type": "code",
      "metadata": {
        "id": "6MkkAvD9NsBk"
      },
      "source": [
        "# Combine strings through concatenation\n",
        "mystring + \". It's me.\""
      ],
      "execution_count": null,
      "outputs": []
    },
    {
      "cell_type": "code",
      "metadata": {
        "id": "_BEU6-T0NsBn"
      },
      "source": [
        "# We can reassign mystring to a new string value.\n",
        "mystring = mystring + \". It's me.\""
      ],
      "execution_count": null,
      "outputs": []
    },
    {
      "cell_type": "code",
      "metadata": {
        "id": "vdYO-sKKNsBq"
      },
      "source": [
        "print(mystring)"
      ],
      "execution_count": null,
      "outputs": []
    },
    {
      "cell_type": "markdown",
      "metadata": {
        "id": "QVrhPwoGhubY"
      },
      "source": [
        "We already saw how to use len(). This is an example of a built-in way to interact with strings, but there are quite a few more which we will cover next."
      ]
    },
    {
      "cell_type": "markdown",
      "metadata": {
        "id": "m7KcM_wENsB1"
      },
      "source": [
        "### Basic Built-in String Methods\n",
        "\n",
        "Python has many built-in string **methods**. Some methods allow the user to perform simple alterations to a string. \n",
        "\n"
      ]
    },
    {
      "cell_type": "code",
      "metadata": {
        "id": "NoO8TSuwNsB2"
      },
      "source": [
        "mystring"
      ],
      "execution_count": null,
      "outputs": []
    },
    {
      "cell_type": "code",
      "metadata": {
        "id": "7RyvdFNGNsB5"
      },
      "source": [
        "# Make all letters in a string uppercase\n",
        "mystring.upper()"
      ],
      "execution_count": null,
      "outputs": []
    },
    {
      "cell_type": "code",
      "metadata": {
        "id": "0sUWl6CANsB-"
      },
      "source": [
        "# Make all letters in a string lowercase\n",
        "mystring.lower()"
      ],
      "execution_count": null,
      "outputs": []
    },
    {
      "cell_type": "markdown",
      "metadata": {
        "id": "Q-YevLwStDCH"
      },
      "source": [
        "<font color = \"red\"> Cover `.split()` ? </font>"
      ]
    },
    {
      "cell_type": "markdown",
      "metadata": {
        "id": "4o2jcAAhNsCL"
      },
      "source": [
        "<font color = \"red\" > There are many more methods than the ones covered here. Visit the Advanced String section to find out more! </font>"
      ]
    },
    {
      "cell_type": "markdown",
      "metadata": {
        "id": "x90qHJh7DzpF"
      },
      "source": [
        "### 1.0 Now Try This"
      ]
    },
    {
      "cell_type": "markdown",
      "metadata": {
        "id": "2jQg-dN0ZbY-"
      },
      "source": [
        "Given the string `Amsterdam`, write a Python statement that displays the `'d'`. **HINT**: This requires indexing. Enter your code in the cell below:"
      ]
    },
    {
      "cell_type": "code",
      "metadata": {
        "id": "3G3a5dNZZbY_"
      },
      "source": [
        "# Once your have verified your answer please uncomment the line below and run it, this will save your code \n",
        "#%%writefile -a {folder_location}/1.py\n",
        "# Please note that if you uncomment and rub multiple times, the program will keep appending to the file.\n",
        "\n",
        "s = 'Amsterdam'\n",
        "# Print out 'd' using indexing\n",
        "answer1 = # INSERT CODE HERE\n",
        "print(answer1)\n"
      ],
      "execution_count": null,
      "outputs": []
    },
    {
      "cell_type": "markdown",
      "metadata": {
        "id": "ilw29z4OZbZE"
      },
      "source": [
        "Reverse the string `'Amsterdam'` using slicing:"
      ]
    },
    {
      "cell_type": "code",
      "metadata": {
        "id": "BABsKQN4ZbZE"
      },
      "source": [
        "# Once your have verified your answer please uncomment the line below and run it, this will save your code \n",
        "#%%writefile -a {folder_location}/1.py\n",
        "# Please note that if you uncomment and rub multiple times, the program will keep appending to the file.\n",
        "\n",
        "s ='Amsterdam'\n",
        "# Reverse the string using slicing\n",
        "answer2 = # INSERT CODE HERE\n",
        "print(answer2)"
      ],
      "execution_count": null,
      "outputs": []
    },
    {
      "cell_type": "markdown",
      "metadata": {
        "id": "rgM2B4rmZbZI"
      },
      "source": [
        "Given the string `Amsterdam`, display the letter `'m'` using negative indexing."
      ]
    },
    {
      "cell_type": "code",
      "metadata": {
        "id": "rZiItM7hZbZK"
      },
      "source": [
        "# Once your have verified your answer please uncomment the line below and run it, this will save your code \n",
        "#%%writefile -a {folder_location}/1.py\n",
        "# Please note that if you uncomment and rub multiple times, the program will keep appending to the file.\n",
        "\n",
        "s ='Amsterdam'\n",
        "\n",
        "# Print out the 'm'\n",
        "answer3 = # INSERT CODE HERE\n",
        "print(answer3)"
      ],
      "execution_count": null,
      "outputs": []
    },
    {
      "cell_type": "markdown",
      "metadata": {
        "id": "hrXZof6r218Z"
      },
      "source": [
        "## Booleans\n",
        "\n",
        "Booleans are another example of a data type. They can only be one of two values: `True` or `False`, and are usually the answers to any true/false questions."
      ]
    },
    {
      "cell_type": "code",
      "metadata": {
        "id": "UGHMeXpD218a"
      },
      "source": [
        "# Booleans can be assigned to variables, just like numbers or strings\n",
        "a = True"
      ],
      "execution_count": null,
      "outputs": []
    },
    {
      "cell_type": "code",
      "metadata": {
        "id": "B7BmKhMA218d"
      },
      "source": [
        "#Show\n",
        "a"
      ],
      "execution_count": null,
      "outputs": []
    },
    {
      "cell_type": "markdown",
      "metadata": {
        "id": "sdZjutML218i"
      },
      "source": [
        "In math, we often ask questions in the form of inequalities, such as \"Is 2 greater than 1?\" These questions have True/False answers, and the same holds true in Python. We can ask Python to answer a question and we will be returned a Boolean value."
      ]
    },
    {
      "cell_type": "code",
      "metadata": {
        "id": "CsA40nxa218j",
        "outputId": "b8719342-edf4-4107-ea6a-da8e765228ea",
        "colab": {
          "base_uri": "https://localhost:8080/"
        }
      },
      "source": [
        "# Output is Boolean\n",
        "1 > 2"
      ],
      "execution_count": null,
      "outputs": [
        {
          "output_type": "execute_result",
          "data": {
            "text/plain": [
              "False"
            ]
          },
          "metadata": {
            "tags": []
          },
          "execution_count": 2
        }
      ]
    },
    {
      "cell_type": "markdown",
      "metadata": {
        "id": "Q0d2MOxp218p"
      },
      "source": [
        "If we have a variable that we know will hold a Boolean value in the future, we can temporarily assign it a placeholder. In Python, that is `None`."
      ]
    },
    {
      "cell_type": "code",
      "metadata": {
        "id": "-6L2eHxX218q"
      },
      "source": [
        "# None is a Boolean placeholder\n",
        "b = None"
      ],
      "execution_count": null,
      "outputs": []
    },
    {
      "cell_type": "code",
      "metadata": {
        "id": "5AkpZ6Gu218u"
      },
      "source": [
        "# Show\n",
        "print(b)"
      ],
      "execution_count": null,
      "outputs": []
    },
    {
      "cell_type": "markdown",
      "metadata": {
        "id": "0VOMDbyu218x"
      },
      "source": [
        "Now we know that if we want to evaluate if a mathematical statement is true in Python, we wil be returned True or False. But how do we write these statements in Python? We use comparison operators!"
      ]
    },
    {
      "cell_type": "markdown",
      "metadata": {
        "id": "_d9-nOtO28os"
      },
      "source": [
        "## Comparison Operators \n",
        "To compare two numbers, there are a variety of different operators used in Python. These operators are not only used to compute basic math, but will also be used in the future to filter out and select specific sections of data based on mathematical criteria. \n",
        "\n",
        "You've probably seen all of these operators before, but let's do a quick refresher. \n",
        "\n",
        "<h2> Table of Comparison Operators </h2><p>  In the table below, assume $a=9$ and $b=11$.</p>\n",
        "\n",
        "<table class=\"table table-bordered\">\n",
        "<tr>\n",
        "<th style=\"width:10%\">Operator</th><th style=\"width:45%\">Description</th><th>Example</th>\n",
        "</tr>\n",
        "<tr>\n",
        "<td>==</td>\n",
        "<td> Checks to see if two numbers are equal.</td>\n",
        "<td> (a == b) is not true.</td>\n",
        "</tr>\n",
        "<tr>\n",
        "<td>!=</td>\n",
        "<td>Checks to see if two numbers are <b> not </b> equal.</td>\n",
        "<td>(a != b) is true</td>\n",
        "</tr>\n",
        "<tr>\n",
        "<td>&gt;</td>\n",
        "<td>Checks to see if the first number is greater than the second.</td>\n",
        "<td> (a &gt; b) is not true.</td>\n",
        "</tr>\n",
        "<tr>\n",
        "<td>&lt;</td>\n",
        "<td>Checks to see if the first number is lesser than the second.</td>\n",
        "<td> (a &lt; b) is true.</td>\n",
        "</tr>\n",
        "<tr>\n",
        "<td>&gt;=</td>\n",
        "<td>Checks to see if the first number is greater than <b> or equal to </b> the second.</td>\n",
        "<td> (a &gt;= b) is not true. </td>\n",
        "</tr>\n",
        "<tr>\n",
        "<td>&lt;=</td>\n",
        "<td>Checks to see if the first number is lesser than <b> or equal to </b> the second.</td>\n",
        "<td> (a &lt;= b) is true. </td>\n",
        "</tr>\n",
        "</table>"
      ]
    },
    {
      "cell_type": "markdown",
      "metadata": {
        "id": "Oxyatrdj28ow"
      },
      "source": [
        "Let's work through quick examples of each of these.\n",
        "\n",
        "#### Equal"
      ]
    },
    {
      "cell_type": "code",
      "metadata": {
        "id": "rPThJGsl28ox",
        "outputId": "6ab282d7-dddd-4627-fd3a-8c51b43a4f41",
        "colab": {
          "base_uri": "https://localhost:8080/"
        }
      },
      "source": [
        "4 == 4"
      ],
      "execution_count": null,
      "outputs": [
        {
          "output_type": "execute_result",
          "data": {
            "text/plain": [
              "True"
            ]
          },
          "metadata": {
            "tags": []
          },
          "execution_count": 27
        }
      ]
    },
    {
      "cell_type": "code",
      "metadata": {
        "id": "W2W27aBp28o1",
        "outputId": "5b7ca6b4-f0e8-4d33-ef77-97b2242a1164",
        "colab": {
          "base_uri": "https://localhost:8080/"
        }
      },
      "source": [
        "1 == 0"
      ],
      "execution_count": null,
      "outputs": [
        {
          "output_type": "execute_result",
          "data": {
            "text/plain": [
              "False"
            ]
          },
          "metadata": {
            "tags": []
          },
          "execution_count": 28
        }
      ]
    },
    {
      "cell_type": "markdown",
      "metadata": {
        "id": "gtzQpCPO28o5"
      },
      "source": [
        "Note that <code>==</code> is a <em>comparison</em> operator, while <code>=</code> is an <em>assignment</em> operator."
      ]
    },
    {
      "cell_type": "markdown",
      "metadata": {
        "id": "4FSgFc8y28o5"
      },
      "source": [
        "#### Not Equal"
      ]
    },
    {
      "cell_type": "code",
      "metadata": {
        "id": "BNQaWArv28o6",
        "outputId": "0451201d-5e69-4284-c090-bfbfd3cd59c3",
        "colab": {
          "base_uri": "https://localhost:8080/"
        }
      },
      "source": [
        "4 != 5"
      ],
      "execution_count": null,
      "outputs": [
        {
          "output_type": "execute_result",
          "data": {
            "text/plain": [
              "True"
            ]
          },
          "metadata": {
            "tags": []
          },
          "execution_count": 29
        }
      ]
    },
    {
      "cell_type": "code",
      "metadata": {
        "id": "D9hVgJsD28o9",
        "outputId": "5e9c7a8e-d1f5-463e-962e-a97a822501c1",
        "colab": {
          "base_uri": "https://localhost:8080/"
        }
      },
      "source": [
        "1 != 1"
      ],
      "execution_count": null,
      "outputs": [
        {
          "output_type": "execute_result",
          "data": {
            "text/plain": [
              "False"
            ]
          },
          "metadata": {
            "tags": []
          },
          "execution_count": 30
        }
      ]
    },
    {
      "cell_type": "markdown",
      "metadata": {
        "id": "iVvotha-28pD"
      },
      "source": [
        "#### Greater Than"
      ]
    },
    {
      "cell_type": "code",
      "metadata": {
        "id": "qA1VVR7128pI",
        "outputId": "4c6ac3eb-93f3-4f63-b79e-7ae2d66103d5",
        "colab": {
          "base_uri": "https://localhost:8080/"
        }
      },
      "source": [
        "8 > 3"
      ],
      "execution_count": null,
      "outputs": [
        {
          "output_type": "execute_result",
          "data": {
            "text/plain": [
              "True"
            ]
          },
          "metadata": {
            "tags": []
          },
          "execution_count": 31
        }
      ]
    },
    {
      "cell_type": "code",
      "metadata": {
        "id": "PrZb9Zy_28pN",
        "outputId": "ab4ed990-ef64-4278-fcf0-3bafb2a5eaa5",
        "colab": {
          "base_uri": "https://localhost:8080/"
        }
      },
      "source": [
        "1 > 9"
      ],
      "execution_count": null,
      "outputs": [
        {
          "output_type": "execute_result",
          "data": {
            "text/plain": [
              "False"
            ]
          },
          "metadata": {
            "tags": []
          },
          "execution_count": 32
        }
      ]
    },
    {
      "cell_type": "markdown",
      "metadata": {
        "id": "PYK9vEa-28pT"
      },
      "source": [
        "#### Less Than"
      ]
    },
    {
      "cell_type": "code",
      "metadata": {
        "id": "f5x67fWk28pU",
        "outputId": "63ad6e02-d662-42c9-f83f-ccf83bcf7cd0",
        "colab": {
          "base_uri": "https://localhost:8080/"
        }
      },
      "source": [
        "3 < 8"
      ],
      "execution_count": null,
      "outputs": [
        {
          "output_type": "execute_result",
          "data": {
            "text/plain": [
              "True"
            ]
          },
          "metadata": {
            "tags": []
          },
          "execution_count": 33
        }
      ]
    },
    {
      "cell_type": "code",
      "metadata": {
        "id": "1eB15ns928pX",
        "outputId": "433f6576-6c34-4762-ef48-4e16350aabad",
        "colab": {
          "base_uri": "https://localhost:8080/"
        }
      },
      "source": [
        "7 < 0"
      ],
      "execution_count": null,
      "outputs": [
        {
          "output_type": "execute_result",
          "data": {
            "text/plain": [
              "False"
            ]
          },
          "metadata": {
            "tags": []
          },
          "execution_count": 34
        }
      ]
    },
    {
      "cell_type": "markdown",
      "metadata": {
        "id": "wDXSDbik28pa"
      },
      "source": [
        "#### Greater Than or Equal to"
      ]
    },
    {
      "cell_type": "code",
      "metadata": {
        "id": "k4BQs2oB28pb",
        "outputId": "60065be6-487e-44c1-a9e2-3c2216fb2478",
        "colab": {
          "base_uri": "https://localhost:8080/"
        }
      },
      "source": [
        "7 >= 7"
      ],
      "execution_count": null,
      "outputs": [
        {
          "output_type": "execute_result",
          "data": {
            "text/plain": [
              "True"
            ]
          },
          "metadata": {
            "tags": []
          },
          "execution_count": 35
        }
      ]
    },
    {
      "cell_type": "code",
      "metadata": {
        "id": "BPBKLDtb28pd",
        "outputId": "cc491df3-7707-4121-cf0e-409cb6bb6e54",
        "colab": {
          "base_uri": "https://localhost:8080/"
        }
      },
      "source": [
        "9 >= 4"
      ],
      "execution_count": null,
      "outputs": [
        {
          "output_type": "execute_result",
          "data": {
            "text/plain": [
              "True"
            ]
          },
          "metadata": {
            "tags": []
          },
          "execution_count": 36
        }
      ]
    },
    {
      "cell_type": "markdown",
      "metadata": {
        "id": "ai1kLMhy28pi"
      },
      "source": [
        "#### Less than or Equal to"
      ]
    },
    {
      "cell_type": "code",
      "metadata": {
        "id": "5KuB4wd028pi",
        "outputId": "33f92972-5413-4789-9c44-c0fb1cd4202b",
        "colab": {
          "base_uri": "https://localhost:8080/"
        }
      },
      "source": [
        "4 <= 4"
      ],
      "execution_count": null,
      "outputs": [
        {
          "output_type": "execute_result",
          "data": {
            "text/plain": [
              "True"
            ]
          },
          "metadata": {
            "tags": []
          },
          "execution_count": 37
        }
      ]
    },
    {
      "cell_type": "code",
      "metadata": {
        "id": "YFbO6yih28pl",
        "outputId": "de74de7e-00e2-45a5-aeff-e08a44176646",
        "colab": {
          "base_uri": "https://localhost:8080/"
        }
      },
      "source": [
        "1 <= 3"
      ],
      "execution_count": null,
      "outputs": [
        {
          "output_type": "execute_result",
          "data": {
            "text/plain": [
              "True"
            ]
          },
          "metadata": {
            "tags": []
          },
          "execution_count": 38
        }
      ]
    },
    {
      "cell_type": "markdown",
      "metadata": {
        "id": "eIDePOLk28po"
      },
      "source": [
        "At this point, we know how to write statements and find out if they are true or false. However, if we want certain code to execute based on if the statements are true or false, we need to learn another type of statement."
      ]
    },
    {
      "cell_type": "markdown",
      "metadata": {
        "id": "spEFCdoV3_Ht"
      },
      "source": [
        "## If-Else Statements\n",
        "If we want Python to perform certain actions *conditionally*, that is, to only perform those tasks if certain criteria are met, we can use if-else statements. Let's walk through a quick example:"
      ]
    },
    {
      "cell_type": "code",
      "metadata": {
        "id": "fln5Fr1c4Wtk",
        "outputId": "f8cee6ae-53cf-429b-ad0a-a40e9c4e0847",
        "colab": {
          "base_uri": "https://localhost:8080/"
        }
      },
      "source": [
        "age = 18\n",
        "\n",
        "if age >= 18:\n",
        "  print(\"You can vote!\")\n",
        "else:\n",
        "  print(\"You can not vote!\")\n"
      ],
      "execution_count": null,
      "outputs": [
        {
          "output_type": "stream",
          "text": [
            "You can vote!\n"
          ],
          "name": "stdout"
        }
      ]
    },
    {
      "cell_type": "markdown",
      "metadata": {
        "id": "zBB7u8P54zAS"
      },
      "source": [
        "We just introduced a lot of syntax here, so let's go through it step by step. First, we have the `if` statement (\"if age >= 18\"), which represents the condition that we want to track. If this condition is met, we want to print \"You can vote!\" If this condition ISN'T met, however, we want to print out \"You can not vote!\" That's what the `else` statement represents. \n",
        "\n",
        "Notice the colon (`:`) immediately after the `if` statement. That signifies that all of the code directly beneath it is to be executed if the condition holds `true`. Similarly, for the `else` statement, all the code directly beneath is to executed if the condition holds `false`. \n",
        "\n",
        "You'll also notice that all code directly after the `if` statement was indented. The same is true for all code after the `else` statement. This is because Python relies on whitespace to figure out what lines of code depend on the `if` condition being true/false, versus general lines of code that don't depend on any conditions.\n",
        "\n",
        "### elif Statements\n",
        "Sometimes, you want to keep track of *multiple* conditions and to do something different depending on each scenario. In order to do this, we use what's called an `elif` statement. Let's modify the above example to illustrate how this works."
      ]
    },
    {
      "cell_type": "code",
      "metadata": {
        "id": "Ys91L_tp9mmY",
        "outputId": "a02d9c44-7837-4708-e695-621a4ad6c7bc",
        "colab": {
          "base_uri": "https://localhost:8080/"
        }
      },
      "source": [
        "age = 18\n",
        "\n",
        "if age >= 35:\n",
        "  print(\"You can run for president.\")\n",
        "elif age >= 18:\n",
        "  print(\"You can vote!\")\n",
        "else:\n",
        "  print(\"You can not vote!\")"
      ],
      "execution_count": null,
      "outputs": [
        {
          "output_type": "stream",
          "text": [
            "You can vote!\n"
          ],
          "name": "stdout"
        }
      ]
    },
    {
      "cell_type": "markdown",
      "metadata": {
        "id": "KS1R5JY482Lr"
      },
      "source": [
        "We made one modification to the previous code block, and that is adding an`elif` statement. `elif` is short for 'else if', and represents the alternate condition in this short example. Python first checks to see if the first condition holds `true`. If not, it checks the alternate condition(s). This second check ONLY happens if the first condition does not hold true. In this case, Python will just run down the list of conditions until it finds a condition that holds true, or gets to the `else` statement. You can have as many `elif` statements as necessary, but Python will only choose to run the code under the first elif statement that is true. \n",
        "\n"
      ]
    },
    {
      "cell_type": "markdown",
      "metadata": {
        "id": "gS0Qlooi_y91"
      },
      "source": [
        "### Multiple Conditions\n",
        "There will also be occasions where you would like to check multiple conditions at once. There are two variations of this:\n",
        "\n",
        "*   When you want **both** or **all** conditions to be true before executing some lines\n",
        "*   When you only want **at least** one condition to be true before executing some lines\n",
        "\n",
        "Let's see some examples of both of these scenarios.\n",
        "\n"
      ]
    },
    {
      "cell_type": "markdown",
      "metadata": {
        "id": "A0c3aQaYAp1L"
      },
      "source": [
        "#### Both Conditions"
      ]
    },
    {
      "cell_type": "code",
      "metadata": {
        "id": "KUhbsX1cAny2",
        "outputId": "899767df-1445-41db-cd74-4b55efce558a",
        "colab": {
          "base_uri": "https://localhost:8080/"
        }
      },
      "source": [
        "age = 18\n",
        "citizen = True\n",
        "\n",
        "if age >= 18 and citizen == True:\n",
        "  print(\"You can vote!\")\n",
        "else:\n",
        "  print(\"You can not vote!\")"
      ],
      "execution_count": null,
      "outputs": [
        {
          "output_type": "stream",
          "text": [
            "You can vote!\n"
          ],
          "name": "stdout"
        }
      ]
    },
    {
      "cell_type": "markdown",
      "metadata": {
        "id": "ZzaHHiMuBlUz"
      },
      "source": [
        "Here, we modified the original condition on voting. We added another thing to keep track of: citizenship. Now, we want Python to say someone can vote only if they are over 18 `and` if they are a citizen (this is what \"citizen = true\" means). Notice we only had to add one word to accomplish this, the `and`. Feel free to modify the values of `age` and `citizen` to see what the code block prints out based on certain combinations."
      ]
    },
    {
      "cell_type": "markdown",
      "metadata": {
        "id": "fUh0L7qdCztf"
      },
      "source": [
        "### At Least One Condition"
      ]
    },
    {
      "cell_type": "code",
      "metadata": {
        "id": "U3sBDM2IDNv-",
        "outputId": "c95c76b8-48c8-464e-d17d-984180141e3d",
        "colab": {
          "base_uri": "https://localhost:8080/"
        }
      },
      "source": [
        "age = 18\n",
        "citizen = True\n",
        "\n",
        "if age < 18 or citizen != True:\n",
        "  print(\"You can not vote!\")\n",
        "else:\n",
        "  print(\"You can vote!\")"
      ],
      "execution_count": null,
      "outputs": [
        {
          "output_type": "stream",
          "text": [
            "You can vote!\n"
          ],
          "name": "stdout"
        }
      ]
    },
    {
      "cell_type": "markdown",
      "metadata": {
        "id": "ntqW4fJVDk7b"
      },
      "source": [
        "If you look carefully, the above example does exactly the same checks as the previous one. Saying someone needs to be at least 18 `and` a citizen to vote, is the exact same as saying if someone is under 18 `or` isn't a citizen, they can't vote. In order to phrase the conditions in this way, we used `or`. This means that only one of those conditions need to be true for Python to execute the respective lines."
      ]
    },
    {
      "cell_type": "markdown",
      "metadata": {
        "id": "8wEBx8Y4FbZn"
      },
      "source": [
        "## 2.0 Now Try This\n",
        "Write a simple program that decides whether you stay dry or wet when going outside. Here's what should happen:\n",
        "\n",
        "*   If it is raining outside and you have a jacket, print \"You can go outside!\"\n",
        "*   If it is raining outside and you **don't** have a jacket, print \"You're gonna get wet.\"\n",
        "*   If it's not raining outside, print \"It's a beautiful day!\"\n",
        "\n",
        "\n",
        "\n",
        "\n"
      ]
    },
    {
      "cell_type": "code",
      "metadata": {
        "id": "nPb-qY2MH4jJ"
      },
      "source": [
        "# Once your have verified your answer please uncomment the line below and run it, this will save your code \n",
        "#%%writefile -a {folder_location}/2.py\n",
        "# Please note that if you uncomment and press multiple times, the program will keep appending to the file.\n",
        "# So only uncomment it when you want to save your answer.\n",
        "\n",
        "#INSERT CODE HERE"
      ],
      "execution_count": null,
      "outputs": []
    },
    {
      "cell_type": "markdown",
      "metadata": {
        "id": "06d6iMqfOk_Z"
      },
      "source": [
        "## Lists\n",
        "We briefly talked about *sequences* when going over strings. A list is another kind of sequence. The main difference is that a list is more generic. It can hold more data types than just letters or characters."
      ]
    },
    {
      "cell_type": "markdown",
      "metadata": {
        "id": "UGViz_ZWjVTP"
      },
      "source": [
        "### Creating Lists"
      ]
    },
    {
      "cell_type": "markdown",
      "metadata": {
        "id": "GpuayryD9ktV"
      },
      "source": [
        "A list is of the form: `[a,b,c]` where each data element is separated by commas, and the whole list is surrounded by square brackets."
      ]
    },
    {
      "cell_type": "code",
      "metadata": {
        "id": "93uSScXTOk_a"
      },
      "source": [
        "# Create a list and asisgn it to the variable my_list\n",
        "my_list = [1,2,3]"
      ],
      "execution_count": null,
      "outputs": []
    },
    {
      "cell_type": "markdown",
      "metadata": {
        "id": "9ggyXUl8Ok_e"
      },
      "source": [
        "That was a list of integers, but like we mentioned, lists can store many data types at once."
      ]
    },
    {
      "cell_type": "code",
      "metadata": {
        "id": "TPyS5RpIOk_g"
      },
      "source": [
        "# Here, my_list is storing a string, an integer, a float, and a character\n",
        "my_list = ['A string',23,100.232,'o']"
      ],
      "execution_count": null,
      "outputs": []
    },
    {
      "cell_type": "markdown",
      "metadata": {
        "id": "vRJ7rYkuOk_l"
      },
      "source": [
        "You can examine list properties by using the same statements that we used for strings. For example, if you wanted to know how many elements are in a list, you can use the `len()` statement."
      ]
    },
    {
      "cell_type": "code",
      "metadata": {
        "id": "ukEGubDvOk_m"
      },
      "source": [
        "len(my_list)"
      ],
      "execution_count": null,
      "outputs": []
    },
    {
      "cell_type": "code",
      "metadata": {
        "id": "oWgtuVsmOk_q"
      },
      "source": [
        "my_list = ['one','two','three',4,5]"
      ],
      "execution_count": null,
      "outputs": []
    },
    {
      "cell_type": "markdown",
      "metadata": {
        "id": "u2fBYlzo-uZ7"
      },
      "source": [
        "All sequences can be indexed. We saw how to do it with strings, and lists are no different."
      ]
    },
    {
      "cell_type": "code",
      "metadata": {
        "id": "xDX7DN7uOk_t"
      },
      "source": [
        "# Grab element at index 0\n",
        "my_list[0]"
      ],
      "execution_count": null,
      "outputs": []
    },
    {
      "cell_type": "code",
      "metadata": {
        "id": "4Z36l5JOOk_x"
      },
      "source": [
        "# Grab index 1 and everything past it\n",
        "my_list[1:]"
      ],
      "execution_count": null,
      "outputs": []
    },
    {
      "cell_type": "code",
      "metadata": {
        "id": "VjuHzfJvOk_1"
      },
      "source": [
        "# Grab everything UP TO index 3\n",
        "my_list[:3]"
      ],
      "execution_count": null,
      "outputs": []
    },
    {
      "cell_type": "markdown",
      "metadata": {
        "id": "a4zfPBV5Ok_4"
      },
      "source": [
        "Lists can be concatenated the same way strings can."
      ]
    },
    {
      "cell_type": "code",
      "metadata": {
        "id": "34u_E9sVOk_5"
      },
      "source": [
        "my_list + ['new item']"
      ],
      "execution_count": null,
      "outputs": []
    },
    {
      "cell_type": "markdown",
      "metadata": {
        "id": "uWeYqzrdOk_8"
      },
      "source": [
        "Since we didn't reassign `my_list`, this didn't change the original `my_list`."
      ]
    },
    {
      "cell_type": "code",
      "metadata": {
        "id": "iDezs3lnOk_8"
      },
      "source": [
        "my_list"
      ],
      "execution_count": null,
      "outputs": []
    },
    {
      "cell_type": "markdown",
      "metadata": {
        "id": "HpAWR1hJOlAA"
      },
      "source": [
        "If you want the change to be permanent, you need to reassign `my_list`."
      ]
    },
    {
      "cell_type": "code",
      "metadata": {
        "id": "eFNB5w3fOlAA"
      },
      "source": [
        "# Reassign\n",
        "my_list = my_list + ['add new item permanently']"
      ],
      "execution_count": null,
      "outputs": []
    },
    {
      "cell_type": "code",
      "metadata": {
        "id": "fm453awNOlAE"
      },
      "source": [
        "my_list"
      ],
      "execution_count": null,
      "outputs": []
    },
    {
      "cell_type": "markdown",
      "metadata": {
        "id": "R9hddNpTtVc6"
      },
      "source": [
        "Now let's briefly go over some list methods."
      ]
    },
    {
      "cell_type": "markdown",
      "metadata": {
        "id": "zjduIynaOlAP"
      },
      "source": [
        "### Basic List Methods\n",
        "We already mentioned how lists were more flexible as a sequence than strings. Another key difference between them is that lists are **mutable**. In other words, they can be changed after creation."
      ]
    },
    {
      "cell_type": "code",
      "metadata": {
        "id": "A4xC0i8NOlAQ"
      },
      "source": [
        "# Create a new list\n",
        "list1 = [1,2,3]"
      ],
      "execution_count": null,
      "outputs": []
    },
    {
      "cell_type": "markdown",
      "metadata": {
        "id": "qLfxNw4yOlAU"
      },
      "source": [
        "If we want to add a new item to the end of a list, we can do so with the `append()` method."
      ]
    },
    {
      "cell_type": "code",
      "metadata": {
        "id": "C-TiI_eUOlAV"
      },
      "source": [
        "# Append a string t \n",
        "list1.append('append me!')"
      ],
      "execution_count": null,
      "outputs": []
    },
    {
      "cell_type": "code",
      "metadata": {
        "id": "Jaj9-tzgOlAZ"
      },
      "source": [
        "# Show\n",
        "list1"
      ],
      "execution_count": null,
      "outputs": []
    },
    {
      "cell_type": "markdown",
      "metadata": {
        "id": "7CIIhCgYOlAd"
      },
      "source": [
        "Sometimes, we also want to remove an item from a list. To do this, we use the `pop()` method. \n",
        "\n",
        "While `append()` always adds the item to the end of the list, you can actually choose which item `pop()` should remove by specifying the index of that item. If you don't choose a specific index, `pop()` removes the last item by default."
      ]
    },
    {
      "cell_type": "code",
      "metadata": {
        "id": "hnX-fPkBOlAe"
      },
      "source": [
        "# Pop off the 0 indexed item\n",
        "list1.pop(0)"
      ],
      "execution_count": null,
      "outputs": []
    },
    {
      "cell_type": "code",
      "metadata": {
        "id": "JrMYJOQdOlAh"
      },
      "source": [
        "# The first item was permanently deleted from list1\n",
        "list1"
      ],
      "execution_count": null,
      "outputs": []
    },
    {
      "cell_type": "markdown",
      "metadata": {
        "id": "-u5ZXjEgByAQ"
      },
      "source": [
        "We can keep track of the elements that we remove from a list."
      ]
    },
    {
      "cell_type": "code",
      "metadata": {
        "id": "ttUAkqYWOlAl"
      },
      "source": [
        "popped_item = list1.pop()\n",
        "popped_item"
      ],
      "execution_count": null,
      "outputs": []
    },
    {
      "cell_type": "code",
      "metadata": {
        "id": "n5GIoG9HCDiz"
      },
      "source": [
        "# Now list1 had its last element removed\n",
        "list1"
      ],
      "execution_count": null,
      "outputs": []
    },
    {
      "cell_type": "markdown",
      "metadata": {
        "id": "8Z-DqqQiOlAt"
      },
      "source": [
        "When indexing any sequence, you will get an error if you try to access an index that doesn't exist."
      ]
    },
    {
      "cell_type": "code",
      "metadata": {
        "id": "4W5S_ImiOlAu"
      },
      "source": [
        "list1[100]"
      ],
      "execution_count": null,
      "outputs": []
    },
    {
      "cell_type": "markdown",
      "metadata": {
        "id": "YPVuQbfQOlAx"
      },
      "source": [
        "Two additional methods that come in handy for lists are `sort()` and `reverse()`.\n",
        "\n",
        "`sort()` does just that. If you have a list of strings or characters, it will sort the list in alphabetical order. If you're dealing with a list of numbers, it will sort from smallest to largest. (You can also make it sort from largest to smallest).\n",
        "\n"
      ]
    },
    {
      "cell_type": "code",
      "metadata": {
        "id": "OhTzTsCqOlAy"
      },
      "source": [
        "new_list = ['a','e','x','b','c']"
      ],
      "execution_count": null,
      "outputs": []
    },
    {
      "cell_type": "code",
      "metadata": {
        "id": "g3-2LXA8OlA_"
      },
      "source": [
        "# Since new_list only has letters, it will be sorted in alphabetical order\n",
        "new_list.sort()\n",
        "new_list"
      ],
      "execution_count": null,
      "outputs": []
    },
    {
      "cell_type": "code",
      "metadata": {
        "id": "eoKP7X-zDQ00"
      },
      "source": [
        "# Here's an example of sorting a list of numbers from least to greatest\n",
        "list2 = [3,2,9,6,4,0]\n",
        "list2.sort()"
      ],
      "execution_count": null,
      "outputs": []
    },
    {
      "cell_type": "markdown",
      "metadata": {
        "id": "LIoVWPC0EdKd"
      },
      "source": [
        "By specifying `reverse=True` when using `sort()`, we can sort a list of numbers in descending order."
      ]
    },
    {
      "cell_type": "code",
      "metadata": {
        "id": "8VfWHNCpEcIh"
      },
      "source": [
        "list2.sort(reverse=True)\n",
        "list2"
      ],
      "execution_count": null,
      "outputs": []
    },
    {
      "cell_type": "markdown",
      "metadata": {
        "id": "0sJc8on2Dx2y"
      },
      "source": [
        "`reverse()` simply reverses the current order of the list."
      ]
    },
    {
      "cell_type": "code",
      "metadata": {
        "id": "WskGGD9iOlA6"
      },
      "source": [
        "# Use reverse to reverse order (this is permanent!)\n",
        "new_list.reverse()\n",
        "new_list"
      ],
      "execution_count": null,
      "outputs": []
    },
    {
      "cell_type": "markdown",
      "metadata": {
        "id": "ZMIKx3AjOlBH"
      },
      "source": [
        "### Nesting Lists\n",
        "We already showed how lists can store data of different types, but we can take that even further. Lists can even store other lists. This is called **nesting**.\n",
        "\n",
        "Let's go through one example."
      ]
    },
    {
      "cell_type": "code",
      "metadata": {
        "id": "-P9Wkw91OlBI"
      },
      "source": [
        "# Here, we build three lists\n",
        "lst_1=[1,2,3]\n",
        "lst_2=[4,5,6]\n",
        "lst_3=[7,8,9]\n",
        "\n",
        "# By nesting them all, we create a matrix (a list of lists)\n",
        "matrix = [lst_1,lst_2,lst_3]"
      ],
      "execution_count": null,
      "outputs": []
    },
    {
      "cell_type": "code",
      "metadata": {
        "id": "eMKJk5cLOlBK"
      },
      "source": [
        "# Show\n",
        "matrix"
      ],
      "execution_count": null,
      "outputs": []
    },
    {
      "cell_type": "markdown",
      "metadata": {
        "id": "1CiTJaLFOlBN"
      },
      "source": [
        "Indexing gets trickier when dealing with nested lists. <font color=\"red\">Now we have elements that have their own elements. </font> So to actually index them, we have to index multiple times, as you can see in the following example.\n"
      ]
    },
    {
      "cell_type": "code",
      "metadata": {
        "id": "fK_B1F2iOlBN"
      },
      "source": [
        "# Grab first element in matrix (lst_1)\n",
        "matrix[0]"
      ],
      "execution_count": null,
      "outputs": []
    },
    {
      "cell_type": "code",
      "metadata": {
        "id": "L2qEysM1OlBQ"
      },
      "source": [
        "# Grab first element of lst_1 (1)\n",
        "matrix[0][0]"
      ],
      "execution_count": null,
      "outputs": []
    },
    {
      "cell_type": "markdown",
      "metadata": {
        "id": "jlS7xu6QFvqJ"
      },
      "source": [
        "### 3.0 Now Try This"
      ]
    },
    {
      "cell_type": "markdown",
      "metadata": {
        "id": "IKYj6iiBZbZR"
      },
      "source": [
        "Using any way that we've already taught you, build the list `[0,0,0]`."
      ]
    },
    {
      "cell_type": "code",
      "metadata": {
        "id": "qvMc4qjWZbZY"
      },
      "source": [
        "# Once your have verified your answer please uncomment the line below and run it, this will save your code \n",
        "#%%writefile -a {folder_location}/3.py\n",
        "# Please note that if you uncomment and press multiple times, the program will keep appending to the file.\n",
        "\n",
        "# Build the list\n",
        "answer1 = #INSERT CODE HERE\n",
        "print(answer1)"
      ],
      "execution_count": null,
      "outputs": []
    },
    {
      "cell_type": "markdown",
      "metadata": {
        "id": "TIvqQqsBZbZn"
      },
      "source": [
        "Modify `answer2` and use multiple indexing to replace the `hello` element with `goodbye`."
      ]
    },
    {
      "cell_type": "code",
      "metadata": {
        "id": "20643TYxZbZo"
      },
      "source": [
        "# Once your have verified your answer please uncomment the line below and run it, this will save your code \n",
        "#%%writefile -a {folder_location}/3.py\n",
        "# Please note that if you uncomment and press multiple times, the program will keep appending to the file.\n",
        "\n",
        "answer2 = [1,2,[3,4,'hello']]\n",
        "answer2 = #INSERT CODE HERE\n",
        "print(answer2)"
      ],
      "execution_count": null,
      "outputs": []
    },
    {
      "cell_type": "markdown",
      "metadata": {
        "id": "v_zLIslPZbZw"
      },
      "source": [
        "Sort the list below:"
      ]
    },
    {
      "cell_type": "code",
      "metadata": {
        "id": "IJZRvdN7ZbZx"
      },
      "source": [
        "# Once your have verified your answer please uncomment the line below and run it, this will save your code \n",
        "#%%writefile -a {folder_location}/3.py\n",
        "# Please note that if you uncomment and press multiple times, the program will keep appending to the file.\n",
        "\n",
        "answer3 = [5,3,4,6,1]\n",
        "answer3 = #INSERT CODE HERE\n",
        "print(answer3)"
      ],
      "execution_count": null,
      "outputs": []
    },
    {
      "cell_type": "markdown",
      "metadata": {
        "id": "qDEeD8_NBbSc"
      },
      "source": [
        "## Tuples\n",
        "\n",
        "Tuples are very similar to lists with one key difference. They are immutable. In other words, once you create a tuple, you can never modify its contents."
      ]
    },
    {
      "cell_type": "markdown",
      "metadata": {
        "id": "WDYmdzPj935W"
      },
      "source": [
        "### Constructing Tuples\n",
        "\n",
        "You can construct a tuple almost exactly like a list. Only, you would surround the elements with parentheses `( )` rather than square brackets `[ ]`."
      ]
    },
    {
      "cell_type": "code",
      "metadata": {
        "id": "PI539KXHBbSe"
      },
      "source": [
        "# Create a tuple\n",
        "t = (1,2,3)"
      ],
      "execution_count": null,
      "outputs": []
    },
    {
      "cell_type": "markdown",
      "metadata": {
        "id": "x2cHknnxcGOy"
      },
      "source": [
        "Trying to change a tuple afterwards won't work."
      ]
    },
    {
      "cell_type": "code",
      "metadata": {
        "id": "_75GFI-0cMkF"
      },
      "source": [
        "# Tuples are immutable\n",
        "t[0] = 4"
      ],
      "execution_count": null,
      "outputs": []
    },
    {
      "cell_type": "markdown",
      "metadata": {
        "id": "St0HF6LOaxMl"
      },
      "source": [
        "You can use `len()` on tuples just like with strings or lists."
      ]
    },
    {
      "cell_type": "code",
      "metadata": {
        "id": "dU_pWYhQBbSi"
      },
      "source": [
        "len(t)"
      ],
      "execution_count": null,
      "outputs": []
    },
    {
      "cell_type": "markdown",
      "metadata": {
        "id": "rN_pdVRBa4bz"
      },
      "source": [
        "Tuples can also hold data of different types."
      ]
    },
    {
      "cell_type": "code",
      "metadata": {
        "id": "QtnrN6_PBbSm"
      },
      "source": [
        "\n",
        "t = ('one',2,'f',3.14)\n",
        "\n",
        "# Show\n",
        "t"
      ],
      "execution_count": null,
      "outputs": []
    },
    {
      "cell_type": "markdown",
      "metadata": {
        "id": "fJQXx7vgbByc"
      },
      "source": [
        "You can also index and slice a tuple just like a list."
      ]
    },
    {
      "cell_type": "code",
      "metadata": {
        "id": "xyu4CGwZBbSq"
      },
      "source": [
        "# Indexing\n",
        "print(t[0])\n",
        "\n",
        "# Slicing\n",
        "print(t[:2])"
      ],
      "execution_count": null,
      "outputs": []
    },
    {
      "cell_type": "markdown",
      "metadata": {
        "id": "DBLmUGHfBbSw"
      },
      "source": [
        "### Basic Tuple Methods\n",
        "\n",
        "Tuples only have a few methods to work with. Two of the most useful are `index()` and `count()`."
      ]
    },
    {
      "cell_type": "code",
      "metadata": {
        "id": "9iAxkxEfBbSx"
      },
      "source": [
        "# Use .index to enter a value and return the index\n",
        "t.index('one')"
      ],
      "execution_count": null,
      "outputs": []
    },
    {
      "cell_type": "code",
      "metadata": {
        "id": "YxcUO8JhBbS2"
      },
      "source": [
        "# Use .count to count the number of times a value appears\n",
        "t.count('one')"
      ],
      "execution_count": null,
      "outputs": []
    },
    {
      "cell_type": "markdown",
      "metadata": {
        "id": "rbJsQW4vBbTD"
      },
      "source": [
        "### When to Use Tuples\n",
        "\n",
        "While it might seem like tuples are just inferior versions of lists, they are very useful in certain circumstances. For instance, if you have a set of data that you don't ever want modified, even intentionally, storing it in a tuple is the best approach."
      ]
    },
    {
      "cell_type": "markdown",
      "metadata": {
        "id": "GavPLpw0GjP_"
      },
      "source": [
        "### 4.0 Now Try This"
      ]
    },
    {
      "cell_type": "markdown",
      "metadata": {
        "id": "2XImAqwcZbaH"
      },
      "source": [
        "Create a tuple."
      ]
    },
    {
      "cell_type": "code",
      "metadata": {
        "id": "JNKxQlgfeIQx"
      },
      "source": [
        "# Once your have verified your answer please uncomment the line below and run it, this will save your code \n",
        "#%%writefile -a {folder_location}/4.py\n",
        "# Please note that if you uncomment and press multiple times, the program will keep appending to the file. \n",
        "# So only uncomment it when you want to save your answer.\n",
        "\n",
        "answer1 = #INSERT CODE HERE\n",
        "print(type(answer1))"
      ],
      "execution_count": null,
      "outputs": []
    },
    {
      "cell_type": "markdown",
      "metadata": {
        "id": "Gml2Q3rPOzP6"
      },
      "source": [
        "## Dictionaries\n",
        "\n",
        "So far, we've only talked about sequences. To switch gears, dictionaries are an example of a **mapping**. Unlike sequences, which store data based on order, dictionaries store data in the form of **key-value pairs**. This method is when you assign a unique ID to a data value, and make it so that you can only access that data by using its ID. \n",
        "\n",
        "You can think of a Python dictionary to be like an actual dictionary. The words are the keys, and their definitions are the values."
      ]
    },
    {
      "cell_type": "markdown",
      "metadata": {
        "id": "j5v_alrd8KaO"
      },
      "source": [
        "### Constructing a Dictionary\n",
        "Dictionaries are built a little differently than tuples or lists. They generally look like this:\n",
        "\n",
        "`{key1:value1,key2:value2,...}`\n",
        "\n",
        "They are surrounded by curly braces `{ }`, each key is connected to its value by a colon `:`, and every pair is separated by commas.\n"
      ]
    },
    {
      "cell_type": "code",
      "metadata": {
        "id": "Ibt_zazrOzP7"
      },
      "source": [
        "# Make a dictionary\n",
        "my_dict = {'key1':'value1','key2':'value2'}"
      ],
      "execution_count": null,
      "outputs": []
    },
    {
      "cell_type": "code",
      "metadata": {
        "id": "UcpULUI4OzQC"
      },
      "source": [
        "# Get values by using their key\n",
        "my_dict['key2']"
      ],
      "execution_count": null,
      "outputs": []
    },
    {
      "cell_type": "markdown",
      "metadata": {
        "id": "17-ijFwFOzQI"
      },
      "source": [
        "It's important to note that dictionaries are very flexible in the data types that they can hold. For example:"
      ]
    },
    {
      "cell_type": "code",
      "metadata": {
        "id": "j7ZWMM7oOzQJ"
      },
      "source": [
        "# This dictionary holds an integer and lists. \n",
        "my_dict = {'key1':123,'key2':[12,23,33],'key3':['item0','item1','item2']}"
      ],
      "execution_count": null,
      "outputs": []
    },
    {
      "cell_type": "code",
      "metadata": {
        "id": "57kiUxF2OzQO"
      },
      "source": [
        "# Let's call the list of strings using its key\n",
        "my_dict['key3']"
      ],
      "execution_count": null,
      "outputs": []
    },
    {
      "cell_type": "markdown",
      "metadata": {
        "id": "Mnd1Igr7gPgd"
      },
      "source": [
        "<font color = 'red'> Since one of the values is a list (`my_dict['key3'] = ['item0','item1','item2']`), we can get the individual items of this list by multiple indexing. </font>"
      ]
    },
    {
      "cell_type": "code",
      "metadata": {
        "id": "f0T3aDArOzQT"
      },
      "source": [
        "# Use the key to get the list. Then use index '0' to get the first value of the list. \n",
        "my_dict['key3'][0]"
      ],
      "execution_count": null,
      "outputs": []
    },
    {
      "cell_type": "markdown",
      "metadata": {
        "id": "VfbPr4MpOzQf"
      },
      "source": [
        "We can change the values of a key as well. For instance:"
      ]
    },
    {
      "cell_type": "code",
      "metadata": {
        "id": "5P_IW7-wOzQh"
      },
      "source": [
        "my_dict['key1']"
      ],
      "execution_count": null,
      "outputs": []
    },
    {
      "cell_type": "code",
      "metadata": {
        "id": "_JE2n8BLOzQn"
      },
      "source": [
        "# Subtract 123 from the value\n",
        "my_dict['key1'] = my_dict['key1'] - 123"
      ],
      "execution_count": null,
      "outputs": []
    },
    {
      "cell_type": "code",
      "metadata": {
        "id": "UZQnyDq3OzQq"
      },
      "source": [
        "#Check\n",
        "my_dict['key1']"
      ],
      "execution_count": null,
      "outputs": []
    },
    {
      "cell_type": "markdown",
      "metadata": {
        "id": "Ym1tQXryOzQ0"
      },
      "source": [
        "It is possible to create an empty dictionary and add the key-value pairs later on. \n",
        "\n",
        "To create the key-value pairs, use the following format: `dictionary['key'] = 'value'`\n",
        "\n"
      ]
    },
    {
      "cell_type": "code",
      "metadata": {
        "id": "XYTOL_t6OzQ0"
      },
      "source": [
        "# Create a new dictionary\n",
        "d = {}"
      ],
      "execution_count": null,
      "outputs": []
    },
    {
      "cell_type": "code",
      "metadata": {
        "id": "6cxK3dXhOzQ4"
      },
      "source": [
        "# Create a new key-value pair\n",
        "d['animal'] = 'Dog'"
      ],
      "execution_count": null,
      "outputs": []
    },
    {
      "cell_type": "code",
      "metadata": {
        "id": "LIICwuVGOzQ_"
      },
      "source": [
        "#Show\n",
        "d"
      ],
      "execution_count": null,
      "outputs": []
    },
    {
      "cell_type": "markdown",
      "metadata": {
        "id": "lQjKGTqyOzRD"
      },
      "source": [
        "### Nesting with Dictionaries\n",
        "\n",
        "Dictionaries can hold other dictionaries within itself, so a key could be paired with a another key-value pair. "
      ]
    },
    {
      "cell_type": "code",
      "metadata": {
        "id": "7ZsdzY1olLqN"
      },
      "source": [
        "# Dictionary nested inside a dictionary\n",
        "d1 = {'key1':{'nestkey':'value'}}"
      ],
      "execution_count": null,
      "outputs": []
    },
    {
      "cell_type": "code",
      "metadata": {
        "id": "SqlnsrceOzRD"
      },
      "source": [
        "# Dictionary nested inside a dictionary nested inside a dictionary\n",
        "d2 = {'key1':{'nestkey':{'subnestkey':'value'}}}"
      ],
      "execution_count": null,
      "outputs": []
    },
    {
      "cell_type": "markdown",
      "metadata": {
        "id": "S9j8ZHcvOzRG"
      },
      "source": [
        "Seems complicated, but let's see how we can `'value'`:"
      ]
    },
    {
      "cell_type": "code",
      "metadata": {
        "id": "vbNLXS9COzRH"
      },
      "source": [
        "# Keep calling the keys\n",
        "d1['key1']['nestkey']"
      ],
      "execution_count": null,
      "outputs": []
    },
    {
      "cell_type": "code",
      "metadata": {
        "id": "afzVwmaDlv9K"
      },
      "source": [
        "# Keep calling the keys\n",
        "d2['key1']['nestkey']['subnestkey']"
      ],
      "execution_count": null,
      "outputs": []
    },
    {
      "cell_type": "markdown",
      "metadata": {
        "id": "aToEjqLPOzRK"
      },
      "source": [
        "### Dictionary Methods\n",
        "\n",
        "There are a few methods we can use on a dictionary. Let's get a quick introduction to them:"
      ]
    },
    {
      "cell_type": "code",
      "metadata": {
        "id": "NizEqIn3OzRK"
      },
      "source": [
        "# Create a typical dictionary\n",
        "d = {'key1':1,'key2':2,'key3':3}"
      ],
      "execution_count": null,
      "outputs": []
    },
    {
      "cell_type": "code",
      "metadata": {
        "id": "F_d4EiF0OzRN"
      },
      "source": [
        "# Method to return a list of all keys \n",
        "d.keys()"
      ],
      "execution_count": null,
      "outputs": []
    },
    {
      "cell_type": "code",
      "metadata": {
        "id": "vXhVyVd3OzRP"
      },
      "source": [
        "# Method to return a list of all values\n",
        "d.values()"
      ],
      "execution_count": null,
      "outputs": []
    },
    {
      "cell_type": "code",
      "metadata": {
        "id": "JPkBFpoGOzRR"
      },
      "source": [
        "# Method to return a list of tuples of all key-value pairs\n",
        "d.items()"
      ],
      "execution_count": null,
      "outputs": []
    },
    {
      "cell_type": "markdown",
      "metadata": {
        "id": "jljY3mE2G-oX"
      },
      "source": [
        "### 5.0 Now Try This\n"
      ]
    },
    {
      "cell_type": "markdown",
      "metadata": {
        "id": "MAp2fG9nZbZ6"
      },
      "source": [
        "Using keys and indexing, grab the 'hello' from the following dictionaries:\n"
      ]
    },
    {
      "cell_type": "code",
      "metadata": {
        "id": "5nfaiz0yZbZ6"
      },
      "source": [
        "# Once your have verified your answer please uncomment the line below and run it, this will save your code \n",
        "#%%writefile -a {folder_location}/5.py\n",
        "# Please note that if you uncomment and press multiple times, the program will keep appending to the file.\n",
        "# So only uncomment it when you want to save your answer.\n",
        "\n",
        "d = {'simple_key':'hello'}\n",
        "\n",
        "# Grab 'hello'\n",
        "answer1 = #INSERT CODE HERE\n",
        "print(answer1)"
      ],
      "execution_count": null,
      "outputs": []
    },
    {
      "cell_type": "markdown",
      "metadata": {
        "id": "Vj5GFIHVmlqd"
      },
      "source": [
        "Using keys and indexing, grab the 'hello' from the following dictionaries:"
      ]
    },
    {
      "cell_type": "code",
      "metadata": {
        "id": "2ddxOLcqZbZ9"
      },
      "source": [
        "# Once your have verified your answer please uncomment the line below and run it, this will save your code \n",
        "#%%writefile -a {folder_location}/5.py\n",
        "# Please note that if you uncomment and press multiple times, the program will keep appending to the file.\n",
        "# So only uncomment it when you want to save your answer.\n",
        "\n",
        "d = {'k1':{'k2':'hello'}}\n",
        "\n",
        "# Grab 'hello'\n",
        "answer2 = #INSERT CODE HERE\n",
        "print(answer2)"
      ],
      "execution_count": null,
      "outputs": []
    },
    {
      "cell_type": "markdown",
      "metadata": {
        "id": "sjNXmAHxmnHF"
      },
      "source": [
        "Using keys and indexing, grab the 'hello' from the following dictionaries:"
      ]
    },
    {
      "cell_type": "code",
      "metadata": {
        "id": "rJlGHUFTZbaA"
      },
      "source": [
        "# Once your have verified your answer please uncomment the line below and run it, this will save your code \n",
        "#%%writefile -a {folder_location}/5.py\n",
        "# Please note that if you uncomment and press multiple times, the program will keep appending to the file.\n",
        "# So only uncomment it when you want to save your answer.\n",
        "\n",
        "# Getting a little tricker\n",
        "d = {'k1':[{'nest_key':['this is deep',['hello']]}]}\n",
        "\n",
        "#Grab hello\n",
        "answer3 = #INSERT CODE HERE\n",
        "print(answer3)"
      ],
      "execution_count": null,
      "outputs": []
    },
    {
      "cell_type": "markdown",
      "metadata": {
        "id": "rkvrimLymoPx"
      },
      "source": [
        "Using keys and indexing, grab the 'hello' from the following dictionaries:"
      ]
    },
    {
      "cell_type": "code",
      "metadata": {
        "id": "vjadbMt3ZbaE"
      },
      "source": [
        "# Once your have verified your answer please uncomment the line below and run it, this will save your code \n",
        "#%%writefile -a {folder_location}/5.py\n",
        "# Please note that if you uncomment and press multiple times, the program will keep appending to the file.\n",
        "# So only uncomment it when you want to save your answer.\n",
        "\n",
        "# This will be hard and annoying!\n",
        "d = {'k1':[1,2,{'k2':['this is tricky',{'tough':[1,2,['hello']]}]}]}\n",
        "\n",
        "# Grab hello\n",
        "answer4 = #INSERT CODE HERE\n",
        "print(answer4)"
      ],
      "execution_count": null,
      "outputs": []
    },
    {
      "cell_type": "markdown",
      "metadata": {
        "id": "9xEU6BTkJNHU"
      },
      "source": [
        "## Loops\n",
        "\n",
        "There will be situations where you would like Python to perform a task multiple times, or until a certain condition is met. In this case, instead of rewriting the same line(s) over and over again, you can just create a loop to make the process automatic.\n",
        "\n",
        "Let's go over some examples. We'll primarily be using two types of loops, `for` loops and `while` loops. We'll be looking at `for` loops first.\n",
        "\n"
      ]
    },
    {
      "cell_type": "markdown",
      "metadata": {
        "id": "aXeuc78ii5IX"
      },
      "source": [
        "\n",
        "### `for` Loops"
      ]
    },
    {
      "cell_type": "code",
      "metadata": {
        "id": "T2ec9kuscPDA"
      },
      "source": [
        "my_list = [1,2,3,4,5,6,7,8,9,10]"
      ],
      "execution_count": null,
      "outputs": []
    },
    {
      "cell_type": "markdown",
      "metadata": {
        "id": "5ufnWSn2cfIO"
      },
      "source": [
        "Let's say we wanted to individually print out each element in this list. We could go the straightforward way and have 10 `print()` statements for each element in that list, but not only is this tedious, it's unnecessary. Here's how we can do this with a `for` loop:"
      ]
    },
    {
      "cell_type": "code",
      "metadata": {
        "id": "oHSEk0IZcyrX"
      },
      "source": [
        "for item in my_list:\n",
        "  print(item)"
      ],
      "execution_count": null,
      "outputs": []
    },
    {
      "cell_type": "markdown",
      "metadata": {
        "id": "2BvgsMM_c3fP"
      },
      "source": [
        "Let's break down the format of a `for` loop. You can think of why it's called a \"for\" loop like this - every time you use one, you're telling Python:\n",
        "\n",
        "\"`For` every element in this **iterable**, do this\".\n",
        "\n",
        "In this scenario, the iterable is `my_list` and the action is printing. \n",
        "\n",
        "You'll also notice that we referred to each element as an `item`, and that didn't cause any errors. This would be unusual, as we didn't define `item` as a variable previously. In Python; however, you're allowed to use *temporary* variables in `for` loops. The variable called `item` gets created and then deleted in the `for` loop above. This means, you can freely use `item` like any other variable within the `for` loop, but not outside of it. \n",
        "\n",
        "Here are a couple more examples:"
      ]
    },
    {
      "cell_type": "code",
      "metadata": {
        "id": "eN2-DIdKfng8"
      },
      "source": [
        "# Prints out the sum of all numbers in my_list (i.e 1+2+3+4+...)\n",
        "my_list = [1,2,3,4,5,6,7,8,9,10]\n",
        "sum = 0\n",
        "\n",
        "for num in my_list:\n",
        "  sum = sum + num\n",
        "\n",
        "print(sum)"
      ],
      "execution_count": null,
      "outputs": []
    },
    {
      "cell_type": "code",
      "metadata": {
        "id": "m9fVMSvagHLd"
      },
      "source": [
        "# Prints out all odd numbers in the list\n",
        "my_list = [1,2,3,4,5,6,7,8,9,10]\n",
        "\n",
        "for item in my_list:\n",
        "  if item % 2 != 0: # If the number can't be evenly divided by 2\n",
        "    print(item)"
      ],
      "execution_count": null,
      "outputs": []
    },
    {
      "cell_type": "markdown",
      "metadata": {
        "id": "25mHlpkbhibO"
      },
      "source": [
        "### `while` Loops\n",
        "\n",
        "`while` loops are useful when it makes more sense to repeat an action until a certain condition is met, rather than **iterating** through a sequence.\n",
        "\n",
        "Here's an example:"
      ]
    },
    {
      "cell_type": "code",
      "metadata": {
        "id": "J9z4rhiFjn0E"
      },
      "source": [
        "# Prints out \"Hi!\" UNTIL count is assigned to 0\n",
        "count = 10\n",
        "\n",
        "while count != 0:\n",
        "  print(\"Hi!\")\n",
        "  count = count - 1"
      ],
      "execution_count": null,
      "outputs": []
    },
    {
      "cell_type": "markdown",
      "metadata": {
        "id": "6ruhh_i2j6IX"
      },
      "source": [
        "The format for `while` loops goes as follows:\n",
        "\n",
        "\"While this condition is not true yet, do this.\"\n",
        "\n",
        "In the above case, we wanted to print \"Hi!\" until `count` was set to 0. Let's see one more example:"
      ]
    },
    {
      "cell_type": "code",
      "metadata": {
        "id": "1DLu1nush55P"
      },
      "source": [
        "# Creates an empty list and appends values to that list until count reaches 0\n",
        "count = 10\n",
        "\n",
        "my_list = list() # list() creates an empty list\n",
        "\n",
        "while count != 0:\n",
        "  my_list.append(count)\n",
        "  count = count - 1\n",
        "\n",
        "my_list"
      ],
      "execution_count": null,
      "outputs": []
    },
    {
      "cell_type": "markdown",
      "metadata": {
        "id": "GReHWEuFidhv"
      },
      "source": [
        "### Loops are Interchangeable\n",
        "Even though `for` loops and `while` loops work slightly differently, they are equally capable. This means that anything you can do with a `for` loop you can do with a `while` loop, and vice versa.\n",
        "\n",
        "To illustrate this, let's see how we can \"convert\" one of the above `for` loop examples to use a while loop instead:"
      ]
    },
    {
      "cell_type": "code",
      "metadata": {
        "id": "AH9zbwuqjvOE"
      },
      "source": [
        "# Prints out the sum of all numbers in my_list (i.e 1+2+3+4+...) using WHILE loops\n",
        "my_list = [1,2,3,4,5,6,7,8,9,10]\n",
        "sum = 0\n",
        "num = 0\n",
        "count = len(my_list)\n",
        "\n",
        "while count != 0:\n",
        "  sum = sum + my_list[num]\n",
        "  num = num + 1\n",
        "  count = count - 1\n",
        "\n",
        "print(sum)"
      ],
      "execution_count": null,
      "outputs": []
    },
    {
      "cell_type": "markdown",
      "metadata": {
        "id": "tWYnWF3NkQaa"
      },
      "source": [
        "Even though we've shown we can do this example with a `while` loop instead, you'll notice that the code is a little harder to understand, as well as requires more lines.\n",
        "\n",
        "This shows that while you can use any loop type, there's usually a type that's best suited for the specific task. As such, you should try to look closely at a problem to determine which type of loop would be most convenient to use."
      ]
    },
    {
      "cell_type": "markdown",
      "metadata": {
        "id": "rh7wkKjSh7P0"
      },
      "source": [
        "### `break`\n",
        "\n",
        "Sometimes you want to want Python to end a loop early, usually if you meet some type of condition. In this case, we use what's called a `break` statement.\n",
        "\n",
        "Here's a concrete example:"
      ]
    },
    {
      "cell_type": "code",
      "metadata": {
        "id": "4hAGqSxBiMj9"
      },
      "source": [
        "# Prints out each element until it gets to 3\n",
        "my_list = [1,2,3,4,5]\n",
        "\n",
        "for item in my_list:\n",
        "  if item == 3:\n",
        "    break\n",
        "  print(item)"
      ],
      "execution_count": null,
      "outputs": []
    },
    {
      "cell_type": "markdown",
      "metadata": {
        "id": "EuYoBvX5ijMV"
      },
      "source": [
        "### `continue`\n",
        "\n",
        "There will also be cases where you would want Python to ignore a certain element, for whatever reason, and move on to the next element. To do this, we can use a `continue` statement.\n",
        "\n",
        "We can just modify the example above slightly to show this:"
      ]
    },
    {
      "cell_type": "code",
      "metadata": {
        "id": "Pl4fZ8kZi-Z5"
      },
      "source": [
        "# Prints out every element EXCEPT 3\n",
        "my_list = [1,2,3,4,5]\n",
        "\n",
        "for item in my_list:\n",
        "  if item == 3:\n",
        "    continue\n",
        "  print(item)"
      ],
      "execution_count": null,
      "outputs": []
    },
    {
      "cell_type": "markdown",
      "metadata": {
        "id": "NiIW9UA6lX_5"
      },
      "source": [
        "### 6.0 Now Try This"
      ]
    },
    {
      "cell_type": "markdown",
      "metadata": {
        "id": "L1pjwa3fl8Pb"
      },
      "source": [
        "First create a list called `alphabet` and fill it with all the letters of the English alphabet (i.e `['a','b','c',...]`). Then, using either `for` or `while` loops:\n",
        "\n",
        "\n",
        "*   Print out every 4th letter\n",
        "*   Skip `l` (that is, don't print `l`)\n",
        "*   Exit the loop once you've printed the 16th letter\n",
        "\n"
      ]
    },
    {
      "cell_type": "code",
      "metadata": {
        "id": "mz3lefhym84Y"
      },
      "source": [
        "# Once your have verified your answer please uncomment the line below and run it, this will save your code \n",
        "#%%writefile -a {folder_location}/6.py\n",
        "# Please note that if you uncomment and press multiple times, the program will keep appending to the file.\n",
        "# So only uncomment it when you want to save your answer.\n",
        "\n",
        "#INSERT CODE HERE"
      ],
      "execution_count": null,
      "outputs": []
    },
    {
      "cell_type": "markdown",
      "metadata": {
        "id": "a5VZpFk6ndVP"
      },
      "source": [
        "Imagine you're copying files from your USB drive to your laptop. Let the lists `usb` and `laptop` represent the two devices. Fill `usb` with at least 20 elements of any data type. Then, using either `for` or `while` loops:\n",
        "\n",
        "*   Remove an item from `usb`\n",
        "*   Append that item to `laptop`\n",
        "\n",
        "You should do this process until the `usb` list is empty and the `laptop` list has all of the elements.\n",
        "\n"
      ]
    },
    {
      "cell_type": "code",
      "metadata": {
        "id": "8TlL0txaoj7D"
      },
      "source": [
        "# Once your have verified your answer please uncomment the line below and run it, this will save your code \n",
        "#%%writefile -a {folder_location}/6.py\n",
        "# Please note that if you uncomment and press multiple times, the program will keep appending to the file.\n",
        "# So only uncomment it when you want to save your answer.\n",
        "\n",
        "#INSERT CODE HERE"
      ],
      "execution_count": null,
      "outputs": []
    },
    {
      "cell_type": "markdown",
      "metadata": {
        "id": "JWmMpmPaNWcX"
      },
      "source": [
        "## Functions\n",
        "\n",
        "### Introduction to Functions\n",
        "\n",
        "Instead of writing the same code over and over, we use functions. Functions are like a shortcut that allows us to write a chunk of code once, and use it as many times as we want. "
      ]
    },
    {
      "cell_type": "markdown",
      "metadata": {
        "id": "-ghJ1ZQJNWcZ"
      },
      "source": [
        "### Format of Function\n",
        "\n",
        "This is the format of using a function: `name_of_function(arg1,arg2)`"
      ]
    },
    {
      "cell_type": "markdown",
      "metadata": {
        "id": "fUoJtJgHNWcf"
      },
      "source": [
        "#### Parameters\n",
        "Parameters are placeholders for variables that a function is expecting. This means that whenever you use a function, you must provide concrete values for all placeholders (parameters) for the function. There are functions that don't use any parameters at all, but most of the time a function uses at least one parameter.\n",
        "\n",
        "Let's see some concrete examples. `sum()` is a built-in Python function that allows you to quickly add up all the items in a list of numbers. The `sum()` function expects at least one parameter, with a second parameter being *optional* - you can provide a \"starting number\" that will get included in the total sum. See below for examples of both of these. \n",
        "\n"
      ]
    },
    {
      "cell_type": "code",
      "metadata": {
        "id": "jDQ5ymA7qfQI"
      },
      "source": [
        "list_1 = [5,10,20]\n",
        "\n",
        "print(sum(list_1))\n",
        "print(sum(list_1,40))"
      ],
      "execution_count": null,
      "outputs": []
    },
    {
      "cell_type": "markdown",
      "metadata": {
        "id": "-kgFJmzDtIgv"
      },
      "source": [
        "Another example is `pow()`. This function allows you to quicky raise any integer to an exponents (i.e $2^3$). Here, there are two parameters, the base and the exponent. The format is:\n",
        "\n",
        "`pow(base,exponent)`"
      ]
    },
    {
      "cell_type": "code",
      "metadata": {
        "id": "tDAuebG_t-Aa"
      },
      "source": [
        "pow(2,6)"
      ],
      "execution_count": null,
      "outputs": []
    },
    {
      "cell_type": "markdown",
      "metadata": {
        "id": "K5hLnLVZJXXv"
      },
      "source": [
        "### 7.0 Now Try This\n",
        "\n",
        "What do you think happens when you don't pass in the right amount of parameters for a function?"
      ]
    },
    {
      "cell_type": "markdown",
      "metadata": {
        "id": "P7VtXO5Sv-eW"
      },
      "source": [
        "Answer here"
      ]
    },
    {
      "cell_type": "markdown",
      "metadata": {
        "id": "IUBg9zS8GT96"
      },
      "source": [
        "## Modules and Packages"
      ]
    },
    {
      "cell_type": "markdown",
      "metadata": {
        "id": "EZGgT39kGT-Y"
      },
      "source": [
        "### Understanding modules\n",
        "A module is just another word for a full Python program. Every time someone writes a program to do some task, they essentially create a module.\n",
        "\n",
        "Modules take it one step further with code reusability. While functions allow you to reuse enture sections of code, modules allows you to reuse entire functions that were written somewhere else.\n",
        "\n",
        "An example of this would be the `math` module. While Python has a lot of built-in features to do math, some of the more advanced, or sophisticated math operations aren't immediately doable. The `math` module has a list of prewritten functions that let you do these more advanced tasks whenever you need to.\n",
        "\n",
        "In order to use any code within a module, you need to first `import` it. You can think of importing as going to that file, copying all of the code, and then pasting it right into your program - without actually having to do all of that.\n"
      ]
    },
    {
      "cell_type": "code",
      "metadata": {
        "id": "pINzCtawGT-Z",
        "outputId": "9f192674-6deb-4732-ed5a-e41dbacc2dae",
        "colab": {
          "base_uri": "https://localhost:8080/"
        }
      },
      "source": [
        "# import the library - Notice you don't see any code from the math module\n",
        "import math\n",
        "\n",
        "# ceil() take a number and rounds it up to the nearest integer\n",
        "math.ceil(3.2)"
      ],
      "execution_count": null,
      "outputs": [
        {
          "output_type": "execute_result",
          "data": {
            "text/plain": [
              "4"
            ]
          },
          "metadata": {
            "tags": []
          },
          "execution_count": 45
        }
      ]
    },
    {
      "cell_type": "markdown",
      "metadata": {
        "id": "KWdrfQP2GT-g"
      },
      "source": [
        "### Exploring built-in modules\n"
      ]
    },
    {
      "cell_type": "markdown",
      "metadata": {
        "id": "LVZNUEvW0Ulp"
      },
      "source": [
        "`dir()` is a function that tells you all of the functions available within a certain package. For example, you can see how many functions are within the `math` module below. Ignore the elements with underscores around them."
      ]
    },
    {
      "cell_type": "code",
      "metadata": {
        "id": "Frdlk-C3GT-g"
      },
      "source": [
        "print(dir(math))"
      ],
      "execution_count": null,
      "outputs": []
    },
    {
      "cell_type": "markdown",
      "metadata": {
        "id": "kV9kfcvBGT-j"
      },
      "source": [
        "While `dir()` lets you know that a certain function exists in a module, it doesn't tell you anything about what it does. For that, you can use the `help()` function. Providing `help()`with a certain function name gives you a brief description about what the function can be used for, as well as what parameters it expects.\n",
        "\n"
      ]
    },
    {
      "cell_type": "code",
      "metadata": {
        "id": "nQfohp4BGT-l"
      },
      "source": [
        "help(math.ceil)"
      ],
      "execution_count": null,
      "outputs": []
    },
    {
      "cell_type": "markdown",
      "metadata": {
        "id": "cJiazN8PJ6Wz"
      },
      "source": [
        "### Understanding packages\n",
        "If modules can be thought of like files, packages are folders. They can house multiple modules, or even other packages. This is one step higher in the hierarchy of code reusability. When you have multiple modules that share a common theme, you can store them in a package for easier use.\n",
        "\n",
        "To give a concrete example of the hierarchy from packages to functions, look at the following statement:\n",
        "\n",
        "\n",
        "\n",
        "```\n",
        "pandas.testing.assert_frame_equal()\n",
        "```\n",
        "\n",
        "Here, `pandas` is the package. It has multiple modules available, but we specifically want the `testing` module. Then, we want to use the `assert_frame_equal()` function that's available within that module. Don't worry about what this function does yet! You'll be introduced to the Pandas library in the coming weeks.\n",
        "\n",
        "\n",
        "\n"
      ]
    }
  ]
}